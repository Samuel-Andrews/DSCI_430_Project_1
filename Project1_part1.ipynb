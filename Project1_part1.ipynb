{
 "metadata": {
  "language_info": {
   "codemirror_mode": {
    "name": "ipython",
    "version": 3
   },
   "file_extension": ".py",
   "mimetype": "text/x-python",
   "name": "python",
   "nbconvert_exporter": "python",
   "pygments_lexer": "ipython3",
   "version": "3.7.6-final"
  },
  "orig_nbformat": 2,
  "kernelspec": {
   "name": "python3",
   "display_name": "Python 3.7.6 64-bit ('base': conda)",
   "metadata": {
    "interpreter": {
     "hash": "afb832a54f715cd2f1ddeab6d5270592cc3825ffc87d65c491f17d6f77347d1f"
    }
   }
  }
 },
 "nbformat": 4,
 "nbformat_minor": 2,
 "cells": [
  {
   "source": [
    "First, we need to read in our data from the world bank to establish our variables. From the website, I picked 19 different indicators from 2015 to 2020 initially with the expectation that many of them may not be complete or far reaching enough to be of much use."
   ],
   "cell_type": "markdown",
   "metadata": {}
  },
  {
   "source": [
    "import pandas as pd\n",
    "import numpy\n",
    "from dfply import *\n",
    "Worldbank_vars = pd.read_csv(\"./Worldbank_Data_format.csv\")\n",
    "\n",
    "#fix names\n",
    "\n",
    "Worldbank_vars.columns = Worldbank_vars.columns.str.replace(' ', '_')"
   ],
   "cell_type": "code",
   "metadata": {},
   "execution_count": null,
   "outputs": []
  },
  {
   "cell_type": "code",
   "execution_count": null,
   "metadata": {},
   "outputs": [],
   "source": [
    "Worldbank_vars"
   ]
  },
  {
   "source": [
    "Winrar gave me some odd formating issues when exported directly from the compressed file. Resaving it as a .csv file after converting it from .xlsx seemed to eliminate it. I'm not quite sure what was causing it, but this resolved the issue.\n",
    "\n",
    "With that taken care off, I will now inspect each variable and determine which ones appear to be the most viable for drawing conclusions. Mainly, I want to make sure more then a handul of countries are actually tracking these variables so that correlations across countires can be accomplished later down the line. My main year of focus will be 2019, as it is recent but represents the status quo before covid hit in early 2020. We have 217 countires that are kept track of, we want to try and keep as close to that as possible."
   ],
   "cell_type": "markdown",
   "metadata": {}
  },
  {
   "cell_type": "code",
   "execution_count": null,
   "metadata": {},
   "outputs": [],
   "source": []
  },
  {
   "cell_type": "code",
   "execution_count": null,
   "metadata": {},
   "outputs": [],
   "source": [
    "(Worldbank_vars\n",
    ">> filter_by(X[\"2019_[YR2019]\"] == \"..\")\n",
    ">> group_by(X.Series_Name)\n",
    ">> summarise(na_counts = X.Series_Name.count() )\n",
    "\n",
    ")"
   ]
  },
  {
   "cell_type": "code",
   "execution_count": null,
   "metadata": {},
   "outputs": [],
   "source": [
    "#Worldbank_vars.groupby([\"Series_Name\"]).size()"
   ]
  },
  {
   "source": [
    "It appears that much of this information is not complete. 2018 appears to have much more compiled based on the website output, perhaps wer should look there.\n"
   ],
   "cell_type": "markdown",
   "metadata": {}
  },
  {
   "cell_type": "code",
   "execution_count": null,
   "metadata": {},
   "outputs": [],
   "source": [
    "(Worldbank_vars\n",
    ">> filter_by(X[\"2018_[YR2018]\"] == \"..\")\n",
    ">> group_by(X.Series_Name)\n",
    ">> summarise(na_counts = X.Series_Name.count() )\n",
    "\n",
    ")"
   ]
  },
  {
   "source": [
    "This looks much more complete on the whole, down from 9 to only 4 being entierly missing. Though its three years off, it seems to be the most recent we can get and still have meaningful amounts to work with.\n",
    "\n",
    "The variables chosen from this are:\n",
    "\n",
    "-Access to electricity (% of population)\n",
    "\n",
    "-Air transport, freight (million ton-km)\n",
    "\n",
    "-Air transport, passengers carried\n",
    "\n",
    "-Automated teller machines (ATMs) (per 100,000 adults)\n",
    "\n",
    "-Cost to import, border compliance (US$)\n",
    "\n",
    "-Life expectancy at birth, total (years)\n",
    "\n",
    "-Nurses and midwives (per 1,000 people)\n",
    "\n",
    "-Population growth (annual %)\t1\n",
    "\n",
    "-Total alcohol consumption per capita (liters of pure alcohol, projected estimates, 15+ years of age)\n",
    "\n",
    "-People practicing open defecation (% of population)\n",
    "\n",
    "Though that last one does not have data from 2019 or 2018, it does have 2017 data as shown below. It is an interesting variable that I think is worth taking a look at and I am willing to go a bit farther back to grab it. Reasons I want to look into this identifiers along with the rest are discussed in detail in the essay.\n",
    "\n",
    "\n",
    "\n"
   ],
   "cell_type": "markdown",
   "metadata": {}
  },
  {
   "cell_type": "code",
   "execution_count": null,
   "metadata": {},
   "outputs": [],
   "source": [
    "#only missing data from 21 countires in 2017\n",
    "\n",
    "(Worldbank_vars\n",
    ">> filter_by(X[\"2017_[YR2017]\"] == \"..\")\n",
    ">> group_by(X.Series_Name)\n",
    ">> summarise(na_counts = X.Series_Name.count())\n",
    ">> filter_by(X.Series_Name == \"People practicing open defecation (% of population)\")\n",
    "\n",
    ")"
   ]
  },
  {
   "source": [
    "Now that we have decided what we want, we need to drop what we don't. To do this explicitly, we will simply make a list of what we want first. I willu se the identifier codes as oppossed to the names as they play nicer with regex, are shorter to write, and should be more consistent over the long term"
   ],
   "cell_type": "markdown",
   "metadata": {}
  },
  {
   "cell_type": "code",
   "execution_count": null,
   "metadata": {},
   "outputs": [],
   "source": [
    "Wanted_columns = [\"EG.ELC.ACCS.ZS\", \"IS.AIR.GOOD.MT.K1\", \"IS.AIR.PSGR\", \"FB.ATM.TOTL.P5\", \"IC.IMP.CSBC.CD\", \"SP.DYN.LE00.IN\", \"SH.MED.NUMW.P3\", \"SP.POP.GROW\", \"SH.ALC.PCAP.LI\",\"SH.STA.ODFC.ZS\"]"
   ]
  },
  {
   "cell_type": "code",
   "execution_count": null,
   "metadata": {},
   "outputs": [],
   "source": [
    "\n",
    "(Worldbank_vars\n",
    ">> filter_by(X.Series_Code.str.contains('|'.join(Wanted_columns)) == True)\n",
    ").head(10)"
   ]
  },
  {
   "source": [
    "This works well, but now we want to get the variables in a form more conducive to looking at correlations. While correlations over time would be interesting, the pandemic iteself and useful data from the worldbank do not match up in a way that would allow us to do so. Instead, we will pull out specific variables from years and code them in columns on a per country basis. Then, we can pull in data for covid and join it on so that visuals and quickly be generated comparing countries various performance across these indeintifiers with covid metrics.\n",
    "\n",
    "Since we have decided on using 2018's data for every variable save for one, we can start with that."
   ],
   "cell_type": "markdown",
   "metadata": {}
  },
  {
   "cell_type": "code",
   "execution_count": null,
   "metadata": {
    "tags": []
   },
   "outputs": [],
   "source": [
    "(Worldbank_vars\n",
    ">> drop(X[\"2015_[YR2015]\"], X[\"2016_[YR2016]\"], X[\"2019_[YR2019]\"], X[\"2020_[YR2020]\"])\n",
    ">> group_by(X[\"Country_Name\"])\n",
    ">> spread(X[\"Series_Name\"], X[\"2018_[YR2018]\"])\n",
    ">> filter_by(X[\"Country_Name\"] == \"United States\")\n",
    "\n",
    "\n",
    ").head(10)"
   ]
  },
  {
   "cell_type": "code",
   "execution_count": null,
   "metadata": {},
   "outputs": [],
   "source": [
    "(Worldbank_vars\n",
    ">> select(X[\"Country_Name\"], X[\"Series_Name\"], X[\"2018_[YR2018]\"])\n",
    ">> spread(X[\"Series_Name\"], X[\"2018_[YR2018]\"])\n",
    "\n",
    "\n",
    ").head(10)"
   ]
  },
  {
   "source": [
    "This works beautifully, but it is at this point that we probably want to change the null values in np.NaNs. We also will want to drop the defectaion variable we are using 2017 for."
   ],
   "cell_type": "markdown",
   "metadata": {}
  },
  {
   "cell_type": "code",
   "execution_count": null,
   "metadata": {},
   "outputs": [],
   "source": [
    "(Worldbank_vars\n",
    ">> filter_by(X.Series_Code.str.contains('|'.join(Wanted_columns)) == True)\n",
    ">> mutate(Year_2018 = X[\"2018_[YR2018]\"].replace(\"..\", np.NaN))\n",
    ">> select(X[\"Country_Name\"], X[\"Series_Name\"], X[\"Year_2018\"])\n",
    ">> spread(X[\"Series_Name\"], X[\"Year_2018\"])\n",
    ">> drop(X[\"People practicing open defecation (% of population)\"])\n",
    "\n",
    "\n",
    ").head(10)"
   ]
  },
  {
   "source": [
    "Now, lets go back and grab that defecation column from 2017"
   ],
   "cell_type": "markdown",
   "metadata": {}
  },
  {
   "cell_type": "code",
   "execution_count": null,
   "metadata": {},
   "outputs": [],
   "source": [
    "\n",
    "(Worldbank_vars\n",
    ">> filter_by(X.Series_Code.str.contains(\"SH.STA.ODFC.ZS\") == True)\n",
    ">> mutate(Year_2017 = X[\"2017_[YR2017]\"].replace(\"..\", np.NaN))\n",
    ">> select(X[\"Country_Name\"], X[\"Series_Name\"], X[\"Year_2017\"])\n",
    ">> spread(X[\"Series_Name\"], X[\"Year_2017\"])\n",
    ">> select(X[\"Country_Name\"], X[\"People practicing open defecation (% of population)\"])\n",
    ">> rename(People_practicing_open_defecation_percent_of_population_2017 = X[\"People practicing open defecation (% of population)\"])\n",
    "\n",
    ")"
   ]
  },
  {
   "source": [
    "Now, we can join it onto what we had before"
   ],
   "cell_type": "markdown",
   "metadata": {}
  },
  {
   "cell_type": "code",
   "execution_count": null,
   "metadata": {},
   "outputs": [],
   "source": [
    "\n",
    "Worlbank_2018_vars = (Worldbank_vars\n",
    ">> filter_by(X.Series_Code.str.contains('|'.join(Wanted_columns)) == True)\n",
    ">> mutate(Year_2018 = X[\"2018_[YR2018]\"].replace(\"..\", np.NaN))\n",
    ">> select(X[\"Country_Name\"], X[\"Series_Name\"], X[\"Year_2018\"])\n",
    ">> spread(X[\"Series_Name\"], X[\"Year_2018\"])\n",
    ">> drop(X[\"People practicing open defecation (% of population)\"])\n",
    ") \n",
    "\n",
    "\n",
    "Worlbank_2017_vars = (Worldbank_vars\n",
    ">> filter_by(X.Series_Code.str.contains(\"SH.STA.ODFC.ZS\") == True)\n",
    ">> mutate(Year_2017 = X[\"2017_[YR2017]\"].replace(\"..\", np.NaN))\n",
    ">> select(X[\"Country_Name\"], X[\"Series_Name\"], X[\"Year_2017\"])\n",
    ">> spread(X[\"Series_Name\"], X[\"Year_2017\"])\n",
    ">> select(X[\"Country_Name\"], X[\"People practicing open defecation (% of population)\"])\n",
    ">> rename(People_practicing_open_defecation_percent_of_population_2017 = X[\"People practicing open defecation (% of population)\"])\n",
    ")\n",
    "\n",
    "\n",
    "#217 x 217 = 47,089, should be safe enough to throw inner joins out\n",
    "Worlbank_recoded = Worlbank_2018_vars >> inner_join(Worlbank_2017_vars, by='Country_Name') \n",
    "\n",
    "Worlbank_recoded"
   ]
  },
  {
   "cell_type": "code",
   "execution_count": null,
   "metadata": {},
   "outputs": [],
   "source": [
    "Worlbank_recoded.info()"
   ]
  },
  {
   "source": [
    "We have not lost any rows while recoding, and every variable has at least 150 countries it maps to. The data types still need to be adjusted, but to be efficent I will wait until I have the covide data joined in to modify such.\n",
    "\n",
    "Next, we need to bring in the covid data. I have three tables that follow the same general format of counting the number of deaths that occur cumulatively every day from 1/22/2020 up until 2/16/2021. To get the information marked in a way conducive to my current table, I will need to restandardize it by summing up the values across the dates.\n",
    "\n",
    "The good news is that the same solution should work for all three tables, so I will implment a solution for one of them and then extend that process to the other two.\n",
    "\n"
   ],
   "cell_type": "markdown",
   "metadata": {}
  },
  {
   "cell_type": "code",
   "execution_count": null,
   "metadata": {},
   "outputs": [],
   "source": [
    "Covid_Deaths = pd.read_csv(\"./deaths.csv\")\n",
    "\n",
    "Covid_Deaths"
   ]
  },
  {
   "cell_type": "code",
   "execution_count": null,
   "metadata": {},
   "outputs": [],
   "source": [
    "Covid_Deaths.info()"
   ]
  },
  {
   "source": [
    "Given that the information is cumulative, we can simply chop off every column that isn't that last one, and relabel it as \"Covid_Deaths_as_of_2_16_2021\". Many countries appear to not be keeping track of this data, nor any covid data for that matter. Such countries will be eliminated from the final file once all is said in done so as to not add bloat to our analysis."
   ],
   "cell_type": "markdown",
   "metadata": {}
  },
  {
   "cell_type": "code",
   "execution_count": null,
   "metadata": {},
   "outputs": [],
   "source": [
    "(Covid_Deaths\n",
    ">> select(X[\"Country\"], X[\"2/16/2021\"])\n",
    ">> rename(Covid_Deaths_as_of_2_16_2021 = X[\"2/16/2021\"])\n",
    "\n",
    "\n",
    ").info()"
   ]
  },
  {
   "source": [
    "Time series tend to suffer from weird misalingment among when tracking multiple variables, at least in my experience. For that reason, I am going to quickly check the last columns to make sure data is not simply being dropped prematuerly for some countries.  "
   ],
   "cell_type": "markdown",
   "metadata": {}
  },
  {
   "cell_type": "code",
   "execution_count": null,
   "metadata": {},
   "outputs": [],
   "source": [
    "(Covid_Deaths\n",
    ">> select(X[\"Country\"], X[\"1/22/2020\"], X[\"2/16/2021\"])\n",
    ">> filter_by(X[\"2/16/2021\"] == 0)\n",
    "\n",
    "\n",
    ")"
   ]
  },
  {
   "source": [
    "The first and last series appear to match up in terms of being zero. Therefore, it appears that either this countries wethered covid perfectly or are not tracking/being tracked. When we get to culling data items further down, this will be considered. The good news now is that we can confirm that we aren't missing anything not so disparged it would not be not worth looking at anyway.\n",
    "\n",
    "Next, we need to ensure that our country names line up with each other for the join. A trivial check makes it seem as though it should work fine, but a few cases in the were parenthesisa are involved could throw a wrench in. Fortunatley, 217 is not a number incappable of being looked over quickly to ensure perfect compliance. But before we muse about a solution,we have to confirm a problem."
   ],
   "cell_type": "markdown",
   "metadata": {}
  },
  {
   "cell_type": "code",
   "execution_count": null,
   "metadata": {},
   "outputs": [],
   "source": [
    "Worlbank_Names = (Worlbank_recoded >> select(X[\"Country_Name\"]))\n",
    "\n",
    "Covid_Names = (Covid_Deaths >> select(X[\"Country\"]) >> rename(Country_Name = X[\"Country\"]))\n",
    "\n",
    "\n",
    "Covid_Names >> inner_join(Worlbank_Names, by='Country_Name')\n",
    "   \n"
   ]
  },
  {
   "source": [
    "173 is a far cry from 216. Lets take a look at the outer join to see the disparities."
   ],
   "cell_type": "markdown",
   "metadata": {}
  },
  {
   "cell_type": "code",
   "execution_count": null,
   "metadata": {},
   "outputs": [],
   "source": [
    "Covid_Names = (Covid_Deaths >> select(X[\"Country\"]) )\n",
    "\n",
    "\n",
    "Joined_Names = Covid_Names.merge(Worlbank_Names, how=\"outer\", left_on='Country', right_on='Country_Name')\n",
    "\n",
    "Joined_Names"
   ]
  },
  {
   "source": [
    "Now, I will inspect where either column has a null to try and see the discprepancies."
   ],
   "cell_type": "markdown",
   "metadata": {}
  },
  {
   "cell_type": "code",
   "execution_count": null,
   "metadata": {},
   "outputs": [],
   "source": [
    "Problem_Names = (Joined_Names >> filter_by((X[\"Country\"].isnull() == True) | (X[\"Country_Name\"].isnull() == True)))\n",
    "\n",
    "Problem_Names.info()"
   ]
  },
  {
   "source": [
    "We appear to have 88 mismatches, leading to hopefully 44 misalingments. Casing does not seem to be an issue, but rather the usage of true vs. common titles and abbreviations. Lets look and try to evaluate cases to see if any pattersn appear or if manually recoding is needed."
   ],
   "cell_type": "markdown",
   "metadata": {}
  },
  {
   "cell_type": "code",
   "execution_count": null,
   "metadata": {},
   "outputs": [],
   "source": [
    "Problem_Names.iloc[0:50]"
   ]
  },
  {
   "cell_type": "code",
   "execution_count": null,
   "metadata": {},
   "outputs": [],
   "source": [
    "Problem_Names.iloc[50:88]"
   ]
  },
  {
   "source": [
    "44 Problems\n",
    "\n",
    "1. Russia vs Russian Federation\n",
    "2. Iran vs Iran, Islamic Rep.\n",
    "3. Slovakia vs Slovak Republic\n",
    "4. Egypt vs Egypt, Arab Rep.\n",
    "5. Burma vs Myanmar\n",
    "6. Venezuela vs Venezuela, RB\n",
    "7. Macedonia vs North Macedonia\t\n",
    "8. Kyrgyzstan vs Kyrgyz Republic\n",
    "9. South Korea vs Korea, Rep.\n",
    "10. Ivory Coast vs Cote d'Ivoire\n",
    "11. Congo (Kinshasa) vs Congo, Dem. Rep.\n",
    "12. Syria vs Syrian Arab Republic\n",
    "13. Cape Verde vs Cabo Verde\n",
    "14. Congo (Brazzaville)\tvs Congo, Rep.\n",
    "15. Bahamas\tvs Bahamas, The\n",
    "16. The Gambia vs Gambia, The\n",
    "17. Saint Lucia\tvs St. Lucia\n",
    "18. Yemen vs Yemen, Rep.\n",
    "19. Saint Vincent and the Grenadines vs St. Vincent and the Grenadines\n",
    "20. Taiwan vs https://datahelpdesk.worldbank.org/knowledgebase/articles/114933-where-are-your-data-on-taiwan\n",
    "21. Cruise Ship vs None\n",
    "22. Diamond Princess vs None\n",
    "23. Others vs None\n",
    "24. Brunei vs Brunei Darussalam\n",
    "25. Hong Kong vs Hong Kong SAR, China\n",
    "26. East Timor vs Timor-Leste\n",
    "27. Guadeloupe vs None\n",
    "28. Laos vs Lao PDR\n",
    "29. Reunion vs None\n",
    "30. Saint Kitts and Nevis vs St. Kitts and Nevis \n",
    "31. Martinique vs None\n",
    "32. Vatican City vs None\n",
    "33. French Guiana vs None\n",
    "34. Macau vs Macao SAR, China\n",
    "35. MS Zaandam vs None\n",
    "36. Mayotte\tvs None\n",
    "37. St. Martin vs St. Martin (French part)\n",
    "38. Micronesia vs Micronesia, Fed. Sts.\n",
    "39. North Ireland vs None\n",
    "40. Saint Barthelemy vs None\n",
    "41. Congo vs Congo, Dem. Rep.\n",
    "42. Guernsey vs None\n",
    "43. Jersey vs None\n",
    "44. Palestine vs None"
   ],
   "cell_type": "markdown",
   "metadata": {}
  },
  {
   "source": [
    "From this list, most can simply be recoded, the rest must be handled seperatley.\n",
    "\n",
    "Cruise Ships:\n",
    "\n",
    "Cruise ships are not countires, and will simply be removed from the analysis. Though individuals on it may hail from other countries, they do not follow the same soverign law. This analysis is concerned with cases in areas, not from areas.\n",
    "\n",
    "    1.Cruise Ship vs None\n",
    "    2.Diamond Princess vs None\n",
    "    3.MS Zaandam vs None\n",
    "\n",
    "Other:\n",
    "\n",
    "Metadata on this category is vague. From what I understand, it is a collection of different, geographically distinct areas of small or undefined size. Because it lacks a unified identity, It cannot be joined to worldbank identifiers and thus unfortunatley must be removed.\n",
    "\n",
    "    1.Others vs None\n",
    "\n",
    "French Departments and territories:\n",
    "\n",
    "French Departmens in the Carribean and South American each have there own, usually complex relationship with France itself. However, by and large, they tend to follow French federal law and policy. Though seperated in the covid data for sake of geographical tracking, as far as the worldbank is concerned, France is France. For the sake of our analysis, these will in turn also simply be considered as \"France\".\n",
    "\n",
    "    1.Guadeloupe vs None\n",
    "    2.Reunion vs None\n",
    "    3.Martinique vs None\n",
    "    4.French Guiana vs None\n",
    "    5.Mayotte vs None\n",
    "    6.Saint Barthelemy\n",
    "\n",
    "Crown Dependencies:\n",
    "\n",
    "Similar to France, the UK has many similar former imperial territories. However, they tend to have a bit more self-governance than most french ones by comparison. However, they are still basically the UK and mirror it well. They also are much closer to the british isles then when compared to France and its globe spanning former colonies.\n",
    "\n",
    "    1.Guernsey vs None\n",
    "    2.Jersey vs None\n",
    "    \n",
    "\n",
    "Worldbank has no data:\n",
    "\n",
    "Vatican city is its own beast when it comes to everything and has a true permanent population of about 500. The Worldbank has little information on this area, yet it is different enough in policy from Italy that it seems unfair enough to include it within it. Therefore it shall be removed.\n",
    "\n",
    "To side-step the entire issue, Palestine is going to be combined with West bank and Gaza, which goegraphically lines up mostly with where palenstinians live.\n",
    "\n",
    "    1.Vatican City vs None\n",
    "    2.Palestine vs None\n",
    "\n",
    "To be combined with UK:\n",
    "\n",
    "I am not about to get into a political discussion about the troubles, but economically speaking, Northern Ireland is considered by the world bank to be \"UK\" and therefore is a part of their demographics.\n",
    "\n",
    "    1.North Ireland vs None\n",
    "\n",
    "The Congo has three sections in the covid data, Kinshasa, Brazzaville, and \"Congo\". I will combine Kinshasa with \"Congo,\" as that city is located within the larger and UN backed PRC, wheras the smaller area of Brazzavile is seperate.\n",
    "\n",
    "Taiwan data is stated to not be included with China, but it also has no category for World development indicators on its own. I will add it to the data once World Bank grows a pair and adds it to the country list where it belongs.\n",
    "\n",
    "In the end, that leaves us with 12 categories to recode, so our output should have 205 as a result.\n"
   ],
   "cell_type": "markdown",
   "metadata": {}
  },
  {
   "source": [
    "Now, these recodings must be done as efficently as possible. We will stick with the Worldbank names, as they tend to follow the actual country names as opposed to the shorthands sometimes used. This does mean a bit more manually recoding, but with cases like the congo and the balkan states being much more clear than the shorthand usage. It is also polite."
   ],
   "cell_type": "markdown",
   "metadata": {}
  },
  {
   "cell_type": "code",
   "execution_count": null,
   "metadata": {},
   "outputs": [],
   "source": [
    "Covid_Names"
   ]
  },
  {
   "cell_type": "code",
   "execution_count": null,
   "metadata": {},
   "outputs": [],
   "source": [
    "Covid_Names_Adj = (Covid_Names\n",
    ">> mutate(Country2 = X[\"Country\"]) #fix the value error\n",
    ">> mutate(Country2 = case_when(\n",
    "    \n",
    "    #French Departments\n",
    "    (X[\"Country2\"].eq(\"Guadeloupe\") == True, \"France\"),\n",
    "    (X[\"Country2\"].eq(\"Reunion\") == True, \"France\"),\n",
    "    (X[\"Country2\"].eq(\"Martinique\") == True, \"France\"),\n",
    "    (X[\"Country2\"].eq(\"French Guiana\") == True, \"France\"),\n",
    "    (X[\"Country2\"].eq(\"Mayotte\") == True, \"France\"),\n",
    "    (X[\"Country2\"].eq(\"Saint Barthelemy\") == True, \"France\"),\n",
    "    (X[\"Country2\"].eq(\"St. Martin\") == True, \"France\"),\n",
    "\n",
    "\n",
    "    #replace all \"Saint\" with St. (done after to deal with French departmens with sains)\n",
    "    (X[\"Country2\"].str.contains(\"Saint\") == True, X[\"Country2\"].str.replace(\"Saint\",\"St.\")),\n",
    "\n",
    "\n",
    "    #manually recode countries\n",
    "    (X[\"Country2\"].eq(\"Russia\") == True, \"Russian Federation\"),\n",
    "    (X[\"Country2\"].eq(\"Iran\") == True, \"Iran, Islamic Rep.\"),\n",
    "    (X[\"Country2\"].eq(\"Slovakia\") == True, \"Slovak Republic\"),\n",
    "    (X[\"Country2\"].eq(\"Venezuela\") == True, \"Venezuela, RB\"),\n",
    "    (X[\"Country2\"].eq(\"Egypt\") == True, \"Egypt, Arab Rep.\"),\n",
    "    (X[\"Country2\"].eq(\"Burma\") == True, \"Myanmar\"),\n",
    "    (X[\"Country2\"].eq(\"Macedonia\") == True, \"North Macedonia\"),\n",
    "    (X[\"Country2\"].eq(\"Kyrgyzstan\") == True, \"Kyrgyz Republic\"),\n",
    "    (X[\"Country2\"].eq(\"South Korea\") == True, \"Korea, Rep.\"),\n",
    "    (X[\"Country2\"].eq(\"Ivory Coast\") == True, \"Cote d'Ivoire\"),\n",
    "    (X[\"Country2\"].eq(\"Bahamas\") == True, \"Bahamas, The\"),\n",
    "    (X[\"Country2\"].eq(\"The Gambia\") == True, \"Gambia, The\"),\n",
    "    (X[\"Country2\"].eq(\"Yemen\") == True, \"Yemen, Rep.\"),\n",
    "    (X[\"Country2\"].eq(\"Brunei\") == True, \"Brunei Darussalam\"),\n",
    "    (X[\"Country2\"].eq(\"Hong Kong\") == True, \"Hong Kong SAR, China\"),\n",
    "    (X[\"Country2\"].eq(\"East Timor\") == True, \"Timor-Leste\"),\n",
    "    (X[\"Country2\"].eq(\"Laos\") == True, \"Lao PDR\"),\n",
    "    (X[\"Country2\"].eq(\"Macau\") == True, \"Macao SAR, China\"),\n",
    "    (X[\"Country2\"].eq(\"Micronesia\") == True, \"Micronesia, Fed. Sts.\"),\n",
    "\n",
    "    (X[\"Country2\"].eq(\"Syria\") == True, \"Syrian Arab Republic\"),\n",
    "    (X[\"Country2\"].eq(\"Cape Verde\") == True, \"Cabo Verde\"),\n",
    "\n",
    "\n",
    "    #Crown Dependencies and Northern Ireland\n",
    "    (X[\"Country2\"].eq(\"Guernsey\") == True, \"United Kingdom\"),\n",
    "    (X[\"Country2\"].eq(\"Jersey\") == True, \"United Kingdom\"),\n",
    "    (X[\"Country2\"].eq(\"North Ireland\") == True, \"United Kingdom\"),\n",
    "\n",
    "\n",
    "    #Sorting out Congo\n",
    "    (X[\"Country2\"].eq(\"Congo\") == True, \"Congo, Dem. Rep.\"),\n",
    "    (X[\"Country2\"].eq(\"Congo (Kinshasa)\") == True, \"Congo, Dem. Rep.\"),\n",
    "    (X[\"Country2\"].eq(\"Congo (Brazzaville)\") == True, \"Congo, Rep.\"),\n",
    "\n",
    "\n",
    "    #Palestine to west bank and gaza\n",
    "    (X[\"Country2\"].eq(\"Palestine\") == True, \"West Bank and Gaza\"),\n",
    "\n",
    "    (True, X[\"Country\"])\n",
    "\n",
    "))\n",
    "\n",
    ">> select(X[\"Country2\"])\n",
    ">> rename(Country = X[\"Country2\"])\n",
    "\n",
    ") \n",
    "\n",
    "\n",
    "Recoded_Names = Covid_Names_Adj.merge(Worlbank_Names, how=\"outer\", left_on='Country', right_on='Country_Name')\n",
    "\n",
    "Recoded_Names"
   ]
  },
  {
   "source": [
    "Now, we need to make sure every Covid Country has a mapping to some WorlBank data if it is not one we are removing."
   ],
   "cell_type": "markdown",
   "metadata": {}
  },
  {
   "cell_type": "code",
   "execution_count": null,
   "metadata": {},
   "outputs": [],
   "source": [
    "Check_Rec_Names = (Recoded_Names >> filter_by((X[\"Country_Name\"].isnull() == True)))\n",
    "\n",
    "Check_Rec_Names"
   ]
  },
  {
   "source": [
    "The above rows will be dropped when we inner join, but that is fine as we do not want them anyway. Now, I will do again with the data and sum together rows representing the same country."
   ],
   "cell_type": "markdown",
   "metadata": {}
  },
  {
   "cell_type": "code",
   "execution_count": null,
   "metadata": {},
   "outputs": [],
   "source": [
    "Covid_Names_Adj[\"Country\"].drop_duplicates()"
   ]
  },
  {
   "cell_type": "code",
   "execution_count": null,
   "metadata": {},
   "outputs": [],
   "source": [
    "(Covid_Deaths\n",
    ">> select(X[\"Country\"], X[\"2/16/2021\"])\n",
    ">> rename(Covid_Deaths_as_of_2_16_2021 = X[\"2/16/2021\"])\n",
    "\n",
    ">> mutate(Country2 = X[\"Country\"]) #fix the value error\n",
    ">> mutate(Country2 = case_when(\n",
    "    \n",
    "    #French Departments\n",
    "    (X[\"Country2\"].eq(\"Guadeloupe\") == True, \"France\"),\n",
    "    (X[\"Country2\"].eq(\"Reunion\") == True, \"France\"),\n",
    "    (X[\"Country2\"].eq(\"Martinique\") == True, \"France\"),\n",
    "    (X[\"Country2\"].eq(\"French Guiana\") == True, \"France\"),\n",
    "    (X[\"Country2\"].eq(\"Mayotte\") == True, \"France\"),\n",
    "    (X[\"Country2\"].eq(\"Saint Barthelemy\") == True, \"France\"),\n",
    "    (X[\"Country2\"].eq(\"St. Martin\") == True, \"France\"),\n",
    "\n",
    "\n",
    "    #replace all \"Saint\" with St. (done after to deal with French departmens with sains)\n",
    "    (X[\"Country2\"].str.contains(\"Saint\") == True, X[\"Country2\"].str.replace(\"Saint\",\"St.\")),\n",
    "\n",
    "\n",
    "    #manually recode countries\n",
    "    (X[\"Country2\"].eq(\"Russia\") == True, \"Russian Federation\"),\n",
    "    (X[\"Country2\"].eq(\"Iran\") == True, \"Iran, Islamic Rep.\"),\n",
    "    (X[\"Country2\"].eq(\"Slovakia\") == True, \"Slovak Republic\"),\n",
    "    (X[\"Country2\"].eq(\"Venezuela\") == True, \"Venezuela, RB\"),\n",
    "    (X[\"Country2\"].eq(\"Egypt\") == True, \"Egypt, Arab Rep.\"),\n",
    "    (X[\"Country2\"].eq(\"Burma\") == True, \"Myanmar\"),\n",
    "    (X[\"Country2\"].eq(\"Macedonia\") == True, \"North Macedonia\"),\n",
    "    (X[\"Country2\"].eq(\"Kyrgyzstan\") == True, \"Kyrgyz Republic\"),\n",
    "    (X[\"Country2\"].eq(\"South Korea\") == True, \"Korea, Rep.\"),\n",
    "    (X[\"Country2\"].eq(\"Ivory Coast\") == True, \"Cote d'Ivoire\"),\n",
    "    (X[\"Country2\"].eq(\"Bahamas\") == True, \"Bahamas, The\"),\n",
    "    (X[\"Country2\"].eq(\"The Gambia\") == True, \"Gambia, The\"),\n",
    "    (X[\"Country2\"].eq(\"Yemen\") == True, \"Yemen, Rep.\"),\n",
    "    (X[\"Country2\"].eq(\"Brunei\") == True, \"Brunei Darussalam\"),\n",
    "    (X[\"Country2\"].eq(\"Hong Kong\") == True, \"Hong Kong SAR, China\"),\n",
    "    (X[\"Country2\"].eq(\"East Timor\") == True, \"Timor-Leste\"),\n",
    "    (X[\"Country2\"].eq(\"Laos\") == True, \"Lao PDR\"),\n",
    "    (X[\"Country2\"].eq(\"Macau\") == True, \"Macao SAR, China\"),\n",
    "    (X[\"Country2\"].eq(\"Micronesia\") == True, \"Micronesia, Fed. Sts.\"),\n",
    "\n",
    "    (X[\"Country2\"].eq(\"Syria\") == True, \"Syrian Arab Republic\"),\n",
    "    (X[\"Country2\"].eq(\"Cape Verde\") == True, \"Cabo Verde\"),\n",
    "\n",
    "\n",
    "    #Crown Dependencies and Northern Ireland\n",
    "    (X[\"Country2\"].eq(\"Guernsey\") == True, \"United Kingdom\"),\n",
    "    (X[\"Country2\"].eq(\"Jersey\") == True, \"United Kingdom\"),\n",
    "    (X[\"Country2\"].eq(\"North Ireland\") == True, \"United Kingdom\"),\n",
    "\n",
    "\n",
    "    #Sorting out Congo\n",
    "    (X[\"Country2\"].eq(\"Congo\") == True, \"Congo, Dem. Rep.\"),\n",
    "    (X[\"Country2\"].eq(\"Congo (Kinshasa)\") == True, \"Congo, Dem. Rep.\"),\n",
    "    (X[\"Country2\"].eq(\"Congo (Brazzaville)\") == True, \"Congo, Rep.\"),\n",
    "\n",
    "\n",
    "    #Palestine to west bank and gaza\n",
    "    (X[\"Country2\"].eq(\"Palestine\") == True, \"West Bank and Gaza\"),\n",
    "\n",
    "    (True, X[\"Country\"])\n",
    "\n",
    "))\n",
    "\n",
    ">> select(X[\"Country2\"], X[\"Covid_Deaths_as_of_2_16_2021\"])\n",
    ">> rename(Country = X[\"Country2\"])\n",
    "\n",
    "\n",
    ">> group_by(X[\"Country\"])\n",
    ">> summarise(Covid_Deaths_as_of_2_16_2021 = X[\"Covid_Deaths_as_of_2_16_2021\"].sum())\n",
    "\n",
    "\n",
    ")"
   ]
  },
  {
   "source": [
    "We are now down to 205 rows, which is the right number given the 12 we recoded into others. Now, we need to join it onto the worldbank data. We will lose rows doing this, but the ones that we do will be ones with either no covid data or were deemed not relevant to our coming analysis. Since we already checked for name compliance above, we do not need to do it again."
   ],
   "cell_type": "markdown",
   "metadata": {}
  },
  {
   "cell_type": "code",
   "execution_count": null,
   "metadata": {},
   "outputs": [],
   "source": [
    "Covid_Deaths_Cleaned = (Covid_Deaths\n",
    ">> select(X[\"Country\"], X[\"2/16/2021\"])\n",
    ">> rename(Covid_Deaths_as_of_2_16_2021 = X[\"2/16/2021\"])\n",
    "\n",
    ">> mutate(Country2 = X[\"Country\"]) #fix the value error\n",
    ">> mutate(Country2 = case_when(\n",
    "    \n",
    "    #French Departments\n",
    "    (X[\"Country2\"].eq(\"Guadeloupe\") == True, \"France\"),\n",
    "    (X[\"Country2\"].eq(\"Reunion\") == True, \"France\"),\n",
    "    (X[\"Country2\"].eq(\"Martinique\") == True, \"France\"),\n",
    "    (X[\"Country2\"].eq(\"French Guiana\") == True, \"France\"),\n",
    "    (X[\"Country2\"].eq(\"Mayotte\") == True, \"France\"),\n",
    "    (X[\"Country2\"].eq(\"Saint Barthelemy\") == True, \"France\"),\n",
    "    (X[\"Country2\"].eq(\"St. Martin\") == True, \"France\"),\n",
    "\n",
    "\n",
    "    #replace all \"Saint\" with St. (done after to deal with French departmens with sains)\n",
    "    (X[\"Country2\"].str.contains(\"Saint\") == True, X[\"Country2\"].str.replace(\"Saint\",\"St.\")),\n",
    "\n",
    "\n",
    "    #manually recode countries\n",
    "    (X[\"Country2\"].eq(\"Russia\") == True, \"Russian Federation\"),\n",
    "    (X[\"Country2\"].eq(\"Iran\") == True, \"Iran, Islamic Rep.\"),\n",
    "    (X[\"Country2\"].eq(\"Slovakia\") == True, \"Slovak Republic\"),\n",
    "    (X[\"Country2\"].eq(\"Venezuela\") == True, \"Venezuela, RB\"),\n",
    "    (X[\"Country2\"].eq(\"Egypt\") == True, \"Egypt, Arab Rep.\"),\n",
    "    (X[\"Country2\"].eq(\"Burma\") == True, \"Myanmar\"),\n",
    "    (X[\"Country2\"].eq(\"Macedonia\") == True, \"North Macedonia\"),\n",
    "    (X[\"Country2\"].eq(\"Kyrgyzstan\") == True, \"Kyrgyz Republic\"),\n",
    "    (X[\"Country2\"].eq(\"South Korea\") == True, \"Korea, Rep.\"),\n",
    "    (X[\"Country2\"].eq(\"Ivory Coast\") == True, \"Cote d'Ivoire\"),\n",
    "    (X[\"Country2\"].eq(\"Bahamas\") == True, \"Bahamas, The\"),\n",
    "    (X[\"Country2\"].eq(\"The Gambia\") == True, \"Gambia, The\"),\n",
    "    (X[\"Country2\"].eq(\"Yemen\") == True, \"Yemen, Rep.\"),\n",
    "    (X[\"Country2\"].eq(\"Brunei\") == True, \"Brunei Darussalam\"),\n",
    "    (X[\"Country2\"].eq(\"Hong Kong\") == True, \"Hong Kong SAR, China\"),\n",
    "    (X[\"Country2\"].eq(\"East Timor\") == True, \"Timor-Leste\"),\n",
    "    (X[\"Country2\"].eq(\"Laos\") == True, \"Lao PDR\"),\n",
    "    (X[\"Country2\"].eq(\"Macau\") == True, \"Macao SAR, China\"),\n",
    "    (X[\"Country2\"].eq(\"Micronesia\") == True, \"Micronesia, Fed. Sts.\"),\n",
    "\n",
    "    (X[\"Country2\"].eq(\"Syria\") == True, \"Syrian Arab Republic\"),\n",
    "    (X[\"Country2\"].eq(\"Cape Verde\") == True, \"Cabo Verde\"),\n",
    "\n",
    "\n",
    "    #Crown Dependencies and Northern Ireland\n",
    "    (X[\"Country2\"].eq(\"Guernsey\") == True, \"United Kingdom\"),\n",
    "    (X[\"Country2\"].eq(\"Jersey\") == True, \"United Kingdom\"),\n",
    "    (X[\"Country2\"].eq(\"North Ireland\") == True, \"United Kingdom\"),\n",
    "\n",
    "\n",
    "    #Sorting out Congo\n",
    "    (X[\"Country2\"].eq(\"Congo\") == True, \"Congo, Dem. Rep.\"),\n",
    "    (X[\"Country2\"].eq(\"Congo (Kinshasa)\") == True, \"Congo, Dem. Rep.\"),\n",
    "    (X[\"Country2\"].eq(\"Congo (Brazzaville)\") == True, \"Congo, Rep.\"),\n",
    "\n",
    "\n",
    "    #Palestine to west bank and gaza\n",
    "    (X[\"Country2\"].eq(\"Palestine\") == True, \"West Bank and Gaza\"),\n",
    "\n",
    "    (True, X[\"Country\"])\n",
    "\n",
    "))\n",
    "\n",
    ">> select(X[\"Country2\"], X[\"Covid_Deaths_as_of_2_16_2021\"])\n",
    ">> rename(Country_Name = X[\"Country2\"])\n",
    "\n",
    "\n",
    ">> group_by(X[\"Country_Name\"])\n",
    ">> summarise(Covid_Deaths_as_of_2_16_2021 = X[\"Covid_Deaths_as_of_2_16_2021\"].sum())\n",
    "\n",
    "\n",
    ") \n",
    "\n",
    "\n",
    "Worlbank_2018_vars = (Worldbank_vars\n",
    ">> filter_by(X.Series_Code.str.contains('|'.join(Wanted_columns)) == True)\n",
    ">> mutate(Year_2018 = X[\"2018_[YR2018]\"].replace(\"..\", np.NaN))\n",
    ">> select(X[\"Country_Name\"], X[\"Series_Name\"], X[\"Year_2018\"])\n",
    ">> spread(X[\"Series_Name\"], X[\"Year_2018\"])\n",
    ">> drop(X[\"People practicing open defecation (% of population)\"])\n",
    ") \n",
    "\n",
    "\n",
    "Worlbank_2017_vars = (Worldbank_vars\n",
    ">> filter_by(X.Series_Code.str.contains(\"SH.STA.ODFC.ZS\") == True)\n",
    ">> mutate(Year_2017 = X[\"2017_[YR2017]\"].replace(\"..\", np.NaN))\n",
    ">> select(X[\"Country_Name\"], X[\"Series_Name\"], X[\"Year_2017\"])\n",
    ">> spread(X[\"Series_Name\"], X[\"Year_2017\"])\n",
    ">> select(X[\"Country_Name\"], X[\"People practicing open defecation (% of population)\"])\n",
    ">> rename(People_practicing_open_defecation_percent_of_population_2017 = X[\"People practicing open defecation (% of population)\"])\n",
    ")\n",
    "\n",
    "\n",
    "\n",
    " \n",
    "Output = (Worlbank_2018_vars \n",
    ">> inner_join(Worlbank_2017_vars, by=\"Country_Name\") \n",
    ">> inner_join(Covid_Deaths_Cleaned, by=\"Country_Name\")\n",
    ")\n",
    "\n",
    "\n"
   ]
  },
  {
   "source": [
    "This solution works out well for Covid deaths, but we still want to grab recoveries and cases. If all goes well, A two joins in the first pipe should be all that is needed, but we still need to inspect them for problems before going in blind.\n",
    "\n",
    "A quick glance at the recovery file already spills the beans on its main issue in that countries sometimes don't accumulate like they are supposed to. That is exceptionally annoying. Fortunatley, because the data is cumulative, we only need to grab the larget data item in each row, which we can iterate with a simple list comprehension."
   ],
   "cell_type": "markdown",
   "metadata": {}
  },
  {
   "cell_type": "code",
   "execution_count": null,
   "metadata": {},
   "outputs": [],
   "source": [
    "Covid_Recoveries = pd.read_csv(\"./recoveries.csv\")\n",
    "\n",
    "Covid_Recoveries"
   ]
  },
  {
   "cell_type": "code",
   "execution_count": null,
   "metadata": {},
   "outputs": [],
   "source": [
    "Covid_Recoveries_fixed = Covid_Recoveries.max(axis=1).to_frame() >> rename(Covid_Recoveries_as_of_2_16_2021 = X[0])\n",
    "\n",
    "Covid_Recoveries_fixed"
   ]
  },
  {
   "source": [
    "Cases looks fine, but we will do the same just to be safe."
   ],
   "cell_type": "markdown",
   "metadata": {}
  },
  {
   "cell_type": "code",
   "execution_count": null,
   "metadata": {},
   "outputs": [],
   "source": [
    "Covid_Cases = pd.read_csv(\"./cases.csv\")\n",
    "\n",
    "Covid_Cases"
   ]
  },
  {
   "cell_type": "code",
   "execution_count": null,
   "metadata": {},
   "outputs": [],
   "source": [
    "Covid_Cases_fixed = Covid_Cases.max(axis=1).to_frame() >> rename(Covid_Cases_as_of_2_16_2021 = X[0])\n",
    "\n",
    "Covid_Cases_fixed"
   ]
  },
  {
   "cell_type": "code",
   "execution_count": null,
   "metadata": {},
   "outputs": [],
   "source": [
    "Covid_data_combined = pd.concat([Covid_Deaths, Covid_Cases_fixed, Covid_Recoveries_fixed], axis=1)\n",
    "\n",
    "Covid_data_combined"
   ]
  },
  {
   "source": [
    "Now, we will join these onto our main output to finish up our data formation."
   ],
   "cell_type": "markdown",
   "metadata": {}
  },
  {
   "cell_type": "code",
   "execution_count": null,
   "metadata": {},
   "outputs": [],
   "source": [
    "Covid_Data_Cleaned = (Covid_data_combined\n",
    ">> select(X[\"Country\"], X[\"2/16/2021\"], X[\"Covid_Cases_as_of_2_16_2021\"], X[\"Covid_Recoveries_as_of_2_16_2021\"])\n",
    ">> rename(Covid_Deaths_as_of_2_16_2021 = X[\"2/16/2021\"])\n",
    ">> mutate(Country2 = X[\"Country\"]) #fix the value error\n",
    ">> mutate(Country2 = case_when(\n",
    "    \n",
    "    #French Departments\n",
    "    (X[\"Country2\"].eq(\"Guadeloupe\") == True, \"France\"),\n",
    "    (X[\"Country2\"].eq(\"Reunion\") == True, \"France\"),\n",
    "    (X[\"Country2\"].eq(\"Martinique\") == True, \"France\"),\n",
    "    (X[\"Country2\"].eq(\"French Guiana\") == True, \"France\"),\n",
    "    (X[\"Country2\"].eq(\"Mayotte\") == True, \"France\"),\n",
    "    (X[\"Country2\"].eq(\"Saint Barthelemy\") == True, \"France\"),\n",
    "    (X[\"Country2\"].eq(\"St. Martin\") == True, \"France\"),\n",
    "\n",
    "\n",
    "    #replace all \"Saint\" with St. (done after to deal with French departmens with sains)\n",
    "    (X[\"Country2\"].str.contains(\"Saint\") == True, X[\"Country2\"].str.replace(\"Saint\",\"St.\")),\n",
    "\n",
    "\n",
    "    #manually recode countries\n",
    "    (X[\"Country2\"].eq(\"Russia\") == True, \"Russian Federation\"),\n",
    "    (X[\"Country2\"].eq(\"Iran\") == True, \"Iran, Islamic Rep.\"),\n",
    "    (X[\"Country2\"].eq(\"Slovakia\") == True, \"Slovak Republic\"),\n",
    "    (X[\"Country2\"].eq(\"Venezuela\") == True, \"Venezuela, RB\"),\n",
    "    (X[\"Country2\"].eq(\"Egypt\") == True, \"Egypt, Arab Rep.\"),\n",
    "    (X[\"Country2\"].eq(\"Burma\") == True, \"Myanmar\"),\n",
    "    (X[\"Country2\"].eq(\"Macedonia\") == True, \"North Macedonia\"),\n",
    "    (X[\"Country2\"].eq(\"Kyrgyzstan\") == True, \"Kyrgyz Republic\"),\n",
    "    (X[\"Country2\"].eq(\"South Korea\") == True, \"Korea, Rep.\"),\n",
    "    (X[\"Country2\"].eq(\"Ivory Coast\") == True, \"Cote d'Ivoire\"),\n",
    "    (X[\"Country2\"].eq(\"Bahamas\") == True, \"Bahamas, The\"),\n",
    "    (X[\"Country2\"].eq(\"The Gambia\") == True, \"Gambia, The\"),\n",
    "    (X[\"Country2\"].eq(\"Yemen\") == True, \"Yemen, Rep.\"),\n",
    "    (X[\"Country2\"].eq(\"Brunei\") == True, \"Brunei Darussalam\"),\n",
    "    (X[\"Country2\"].eq(\"Hong Kong\") == True, \"Hong Kong SAR, China\"),\n",
    "    (X[\"Country2\"].eq(\"East Timor\") == True, \"Timor-Leste\"),\n",
    "    (X[\"Country2\"].eq(\"Laos\") == True, \"Lao PDR\"),\n",
    "    (X[\"Country2\"].eq(\"Macau\") == True, \"Macao SAR, China\"),\n",
    "    (X[\"Country2\"].eq(\"Micronesia\") == True, \"Micronesia, Fed. Sts.\"),\n",
    "    (X[\"Country2\"].eq(\"Syria\") == True, \"Syrian Arab Republic\"),\n",
    "    (X[\"Country2\"].eq(\"Cape Verde\") == True, \"Cabo Verde\"),\n",
    "\n",
    "\n",
    "    #Crown Dependencies and Northern Ireland\n",
    "    (X[\"Country2\"].eq(\"Guernsey\") == True, \"United Kingdom\"),\n",
    "    (X[\"Country2\"].eq(\"Jersey\") == True, \"United Kingdom\"),\n",
    "    (X[\"Country2\"].eq(\"North Ireland\") == True, \"United Kingdom\"),\n",
    "\n",
    "\n",
    "    #Sorting out Congo\n",
    "    (X[\"Country2\"].eq(\"Congo\") == True, \"Congo, Dem. Rep.\"),\n",
    "    (X[\"Country2\"].eq(\"Congo (Kinshasa)\") == True, \"Congo, Dem. Rep.\"),\n",
    "    (X[\"Country2\"].eq(\"Congo (Brazzaville)\") == True, \"Congo, Rep.\"),\n",
    "\n",
    "\n",
    "    #Palestine to west bank and gaza\n",
    "    (X[\"Country2\"].eq(\"Palestine\") == True, \"West Bank and Gaza\"),\n",
    "\n",
    "    (True, X[\"Country\"])\n",
    "\n",
    "))\n",
    "\n",
    ">> select(X[\"Country2\"], X[\"Covid_Deaths_as_of_2_16_2021\"], X[\"Covid_Cases_as_of_2_16_2021\"], X[\"Covid_Recoveries_as_of_2_16_2021\"])\n",
    "\n",
    ">> rename(Country_Name = X[\"Country2\"])\n",
    "\n",
    "\n",
    ">> group_by(X[\"Country_Name\"])\n",
    ">> summarise(Covid_Deaths_as_of_2_16_2021 = X[\"Covid_Deaths_as_of_2_16_2021\"].sum(), Covid_Cases_as_of_2_16_2021 = X[\"Covid_Cases_as_of_2_16_2021\"].sum(), Covid_Recoviers_as_of_2_16_2021 = X[\"Covid_Recoveries_as_of_2_16_2021\"].sum()  )\n",
    "\n",
    "\n",
    ") \n",
    "\n",
    "Covid_Data_Cleaned"
   ]
  },
  {
   "cell_type": "code",
   "execution_count": null,
   "metadata": {},
   "outputs": [],
   "source": [
    "Worlbank_2018_vars = (Worldbank_vars\n",
    ">> filter_by(X.Series_Code.str.contains('|'.join(Wanted_columns)) == True)\n",
    ">> mutate(Year_2018 = X[\"2018_[YR2018]\"].replace(\"..\", np.NaN))\n",
    ">> select(X[\"Country_Name\"], X[\"Series_Name\"], X[\"Year_2018\"])\n",
    ">> spread(X[\"Series_Name\"], X[\"Year_2018\"])\n",
    ">> drop(X[\"People practicing open defecation (% of population)\"])\n",
    ") \n",
    "\n",
    "\n",
    "Worlbank_2017_vars = (Worldbank_vars\n",
    ">> filter_by(X.Series_Code.str.contains(\"SH.STA.ODFC.ZS\") == True)\n",
    ">> mutate(Year_2017 = X[\"2017_[YR2017]\"].replace(\"..\", np.NaN))\n",
    ">> select(X[\"Country_Name\"], X[\"Series_Name\"], X[\"Year_2017\"])\n",
    ">> spread(X[\"Series_Name\"], X[\"Year_2017\"])\n",
    ">> select(X[\"Country_Name\"], X[\"People practicing open defecation (% of population)\"])\n",
    ">> rename(People_practicing_open_defecation_percent_of_population_2017 = X[\"People practicing open defecation (% of population)\"])\n",
    ")\n",
    "\n",
    "\n",
    "\n",
    "Output = (Worlbank_2018_vars \n",
    ">> inner_join(Worlbank_2017_vars, by=\"Country_Name\") \n",
    ">> inner_join(Covid_Data_Cleaned, by=\"Country_Name\")\n",
    ")\n",
    "\n",
    "Output\n"
   ]
  },
  {
   "source": [
    "Now that we have our output, it is time to bring the whole process in an organized fashion together and optimize it further. Ideally, one could run just the following from start to finish as a better version of the process engineered above."
   ],
   "cell_type": "markdown",
   "metadata": {}
  },
  {
   "cell_type": "code",
   "execution_count": 2,
   "metadata": {},
   "outputs": [],
   "source": [
    "#packages\n",
    "\n",
    "import pandas as pd\n",
    "import numpy\n",
    "from dfply import *"
   ]
  },
  {
   "cell_type": "code",
   "execution_count": 3,
   "metadata": {},
   "outputs": [],
   "source": [
    "# Read in files\n",
    "\n",
    "Worldbank_vars = pd.read_csv(\"./Worldbank_Data_format.csv\")\n",
    "Covid_Recoveries = pd.read_csv(\"./recoveries.csv\")\n",
    "Covid_Cases = pd.read_csv(\"./cases.csv\")\n",
    "Covid_Deaths = pd.read_csv(\"./deaths.csv\")\n"
   ]
  },
  {
   "cell_type": "code",
   "execution_count": 4,
   "metadata": {},
   "outputs": [
    {
     "output_type": "execute_result",
     "data": {
      "text/plain": [
       "            Country  Covid_Recoveries_as_of_2_16_2021  \\\n",
       "0     United States                           6399531   \n",
       "1             India                          10644858   \n",
       "2            Brazil                           8847264   \n",
       "3    United Kingdom                             11022   \n",
       "4            Russia                           3584477   \n",
       "..              ...                               ...   \n",
       "212            Guam                                 0   \n",
       "213        Guernsey                                 0   \n",
       "214          Jersey                                 0   \n",
       "215       Palestine                                 0   \n",
       "216     Puerto Rico                                 0   \n",
       "\n",
       "     Covid_Cases_as_of_2_16_2021  Covid_Deaths_as_of_2_16_2021  \n",
       "0                       27756624                        488081  \n",
       "1                       10937320                        155913  \n",
       "2                        9921981                        240940  \n",
       "3                        4070332                        118421  \n",
       "4                        4053535                         79659  \n",
       "..                           ...                           ...  \n",
       "212                            3                             0  \n",
       "213                            1                             0  \n",
       "214                            2                             0  \n",
       "215                           25                             0  \n",
       "216                            3                             0  \n",
       "\n",
       "[217 rows x 4 columns]"
      ],
      "text/html": "<div>\n<style scoped>\n    .dataframe tbody tr th:only-of-type {\n        vertical-align: middle;\n    }\n\n    .dataframe tbody tr th {\n        vertical-align: top;\n    }\n\n    .dataframe thead th {\n        text-align: right;\n    }\n</style>\n<table border=\"1\" class=\"dataframe\">\n  <thead>\n    <tr style=\"text-align: right;\">\n      <th></th>\n      <th>Country</th>\n      <th>Covid_Recoveries_as_of_2_16_2021</th>\n      <th>Covid_Cases_as_of_2_16_2021</th>\n      <th>Covid_Deaths_as_of_2_16_2021</th>\n    </tr>\n  </thead>\n  <tbody>\n    <tr>\n      <th>0</th>\n      <td>United States</td>\n      <td>6399531</td>\n      <td>27756624</td>\n      <td>488081</td>\n    </tr>\n    <tr>\n      <th>1</th>\n      <td>India</td>\n      <td>10644858</td>\n      <td>10937320</td>\n      <td>155913</td>\n    </tr>\n    <tr>\n      <th>2</th>\n      <td>Brazil</td>\n      <td>8847264</td>\n      <td>9921981</td>\n      <td>240940</td>\n    </tr>\n    <tr>\n      <th>3</th>\n      <td>United Kingdom</td>\n      <td>11022</td>\n      <td>4070332</td>\n      <td>118421</td>\n    </tr>\n    <tr>\n      <th>4</th>\n      <td>Russia</td>\n      <td>3584477</td>\n      <td>4053535</td>\n      <td>79659</td>\n    </tr>\n    <tr>\n      <th>...</th>\n      <td>...</td>\n      <td>...</td>\n      <td>...</td>\n      <td>...</td>\n    </tr>\n    <tr>\n      <th>212</th>\n      <td>Guam</td>\n      <td>0</td>\n      <td>3</td>\n      <td>0</td>\n    </tr>\n    <tr>\n      <th>213</th>\n      <td>Guernsey</td>\n      <td>0</td>\n      <td>1</td>\n      <td>0</td>\n    </tr>\n    <tr>\n      <th>214</th>\n      <td>Jersey</td>\n      <td>0</td>\n      <td>2</td>\n      <td>0</td>\n    </tr>\n    <tr>\n      <th>215</th>\n      <td>Palestine</td>\n      <td>0</td>\n      <td>25</td>\n      <td>0</td>\n    </tr>\n    <tr>\n      <th>216</th>\n      <td>Puerto Rico</td>\n      <td>0</td>\n      <td>3</td>\n      <td>0</td>\n    </tr>\n  </tbody>\n</table>\n<p>217 rows × 4 columns</p>\n</div>"
     },
     "metadata": {},
     "execution_count": 4
    }
   ],
   "source": [
    "#use our trick to get the maximum accumulated, future proofing it by using the columns of each file's country names unless the order ever changes across each for any reason. It may be arguably Wet but because we are relying on different source files, focusing operations on each one could allow for easier maintenance down the line should one of them require it.\n",
    "\n",
    "\n",
    "#Recoveries\n",
    "Covid_Recoveries_Total= Covid_Recoveries >> select([\"Country\"])\n",
    "Covid_Recoveries_Total[\"Covid_Recoveries_as_of_2_16_2021\"] = Covid_Recoveries.max(axis=1)\n",
    "\n",
    "\n",
    "#Cases\n",
    "Covid_Cases_Total= Covid_Cases >> select([\"Country\"])\n",
    "Covid_Cases_Total[\"Covid_Cases_as_of_2_16_2021\"] = Covid_Cases.max(axis=1)\n",
    "\n",
    "\n",
    "#Deaths\n",
    "Covid_Deaths_Total= Covid_Deaths >> select([\"Country\"])\n",
    "Covid_Deaths_Total[\"Covid_Deaths_as_of_2_16_2021\"] = Covid_Deaths.max(axis=1)\n",
    "\n",
    "\n",
    "Covid_Data_Combined = (Covid_Recoveries_Total \n",
    ">> inner_join(Covid_Cases_Total, by=\"Country\") \n",
    ">> inner_join(Covid_Deaths_Total, by=\"Country\")\n",
    ")\n",
    "\n",
    "Covid_Data_Combined"
   ]
  },
  {
   "cell_type": "code",
   "execution_count": 5,
   "metadata": {},
   "outputs": [
    {
     "output_type": "stream",
     "name": "stderr",
     "text": [
      "/home/sandrews/.pyenv/versions/anaconda3-2020.02/lib/python3.7/site-packages/dfply/vector.py:186: SettingWithCopyWarning: \nA value is trying to be set on a copy of a slice from a DataFrame\n\nSee the caveats in the documentation: https://pandas.pydata.org/pandas-docs/stable/user_guide/indexing.html#returning-a-view-versus-a-copy\n  outcome[~logical] = np.nan\n/home/sandrews/.pyenv/versions/anaconda3-2020.02/lib/python3.7/site-packages/dfply/vector.py:110: FutureWarning: The 'lookup' method is deprecated and will beremoved in a future version.You can use DataFrame.melt and DataFrame.locas a substitute.\n  return coalescer.lookup(np.arange(coalescer.shape[0]), min_nonna)\n"
     ]
    }
   ],
   "source": [
    "Covid_Data_Cleaned = (Covid_Data_Combined\n",
    ">> mutate(Country2 = X[\"Country\"]) #fix the value error\n",
    ">> mutate(Country2 = case_when(\n",
    "    \n",
    "    #French Departments\n",
    "    (X[\"Country2\"].eq(\"Guadeloupe\") == True, \"France\"),\n",
    "    (X[\"Country2\"].eq(\"Reunion\") == True, \"France\"),\n",
    "    (X[\"Country2\"].eq(\"Martinique\") == True, \"France\"),\n",
    "    (X[\"Country2\"].eq(\"French Guiana\") == True, \"France\"),\n",
    "    (X[\"Country2\"].eq(\"Mayotte\") == True, \"France\"),\n",
    "    (X[\"Country2\"].eq(\"Saint Barthelemy\") == True, \"France\"),\n",
    "    (X[\"Country2\"].eq(\"St. Martin\") == True, \"France\"),\n",
    "\n",
    "\n",
    "    #replace all \"Saint\" with St. (done after to deal with French departmens with sains)\n",
    "    (X[\"Country2\"].str.contains(\"Saint\") == True, X[\"Country2\"].str.replace(\"Saint\",\"St.\")),\n",
    "\n",
    "\n",
    "    #manually recode countries\n",
    "    (X[\"Country2\"].eq(\"Russia\") == True, \"Russian Federation\"),\n",
    "    (X[\"Country2\"].eq(\"Iran\") == True, \"Iran, Islamic Rep.\"),\n",
    "    (X[\"Country2\"].eq(\"Slovakia\") == True, \"Slovak Republic\"),\n",
    "    (X[\"Country2\"].eq(\"Venezuela\") == True, \"Venezuela, RB\"),\n",
    "    (X[\"Country2\"].eq(\"Egypt\") == True, \"Egypt, Arab Rep.\"),\n",
    "    (X[\"Country2\"].eq(\"Burma\") == True, \"Myanmar\"),\n",
    "    (X[\"Country2\"].eq(\"Macedonia\") == True, \"North Macedonia\"),\n",
    "    (X[\"Country2\"].eq(\"Kyrgyzstan\") == True, \"Kyrgyz Republic\"),\n",
    "    (X[\"Country2\"].eq(\"South Korea\") == True, \"Korea, Rep.\"),\n",
    "    (X[\"Country2\"].eq(\"Ivory Coast\") == True, \"Cote d'Ivoire\"),\n",
    "    (X[\"Country2\"].eq(\"Bahamas\") == True, \"Bahamas, The\"),\n",
    "    (X[\"Country2\"].eq(\"The Gambia\") == True, \"Gambia, The\"),\n",
    "    (X[\"Country2\"].eq(\"Yemen\") == True, \"Yemen, Rep.\"),\n",
    "    (X[\"Country2\"].eq(\"Brunei\") == True, \"Brunei Darussalam\"),\n",
    "    (X[\"Country2\"].eq(\"Hong Kong\") == True, \"Hong Kong SAR, China\"),\n",
    "    (X[\"Country2\"].eq(\"East Timor\") == True, \"Timor-Leste\"),\n",
    "    (X[\"Country2\"].eq(\"Laos\") == True, \"Lao PDR\"),\n",
    "    (X[\"Country2\"].eq(\"Macau\") == True, \"Macao SAR, China\"),\n",
    "    (X[\"Country2\"].eq(\"Micronesia\") == True, \"Micronesia, Fed. Sts.\"),\n",
    "    (X[\"Country2\"].eq(\"Syria\") == True, \"Syrian Arab Republic\"),\n",
    "    (X[\"Country2\"].eq(\"Cape Verde\") == True, \"Cabo Verde\"),\n",
    "\n",
    "\n",
    "    #Crown Dependencies and Northern Ireland\n",
    "    (X[\"Country2\"].eq(\"Guernsey\") == True, \"United Kingdom\"),\n",
    "    (X[\"Country2\"].eq(\"Jersey\") == True, \"United Kingdom\"),\n",
    "    (X[\"Country2\"].eq(\"North Ireland\") == True, \"United Kingdom\"),\n",
    "\n",
    "\n",
    "    #Sorting out Congo\n",
    "    (X[\"Country2\"].eq(\"Congo\") == True, \"Congo, Dem. Rep.\"),\n",
    "    (X[\"Country2\"].eq(\"Congo (Kinshasa)\") == True, \"Congo, Dem. Rep.\"),\n",
    "    (X[\"Country2\"].eq(\"Congo (Brazzaville)\") == True, \"Congo, Rep.\"),\n",
    "\n",
    "\n",
    "    #Palestine to west bank and gaza\n",
    "    (X[\"Country2\"].eq(\"Palestine\") == True, \"West Bank and Gaza\"),\n",
    "\n",
    "    (True, X[\"Country\"])\n",
    "\n",
    "))\n",
    "\n",
    ">> select(X[\"Country2\"], X[\"Covid_Deaths_as_of_2_16_2021\"], X[\"Covid_Cases_as_of_2_16_2021\"], X[\"Covid_Recoveries_as_of_2_16_2021\"])\n",
    "\n",
    ">> rename(Country_Name = X[\"Country2\"])\n",
    "\n",
    "\n",
    ">> group_by(X[\"Country_Name\"])\n",
    ">> summarise(Covid_Deaths_as_of_2_16_2021 = X[\"Covid_Deaths_as_of_2_16_2021\"].sum(), Covid_Cases_as_of_2_16_2021 = X[\"Covid_Cases_as_of_2_16_2021\"].sum(), Covid_Recoviers_as_of_2_16_2021 = X[\"Covid_Recoveries_as_of_2_16_2021\"].sum()  )\n",
    "\n",
    "\n",
    ") "
   ]
  },
  {
   "cell_type": "code",
   "execution_count": 7,
   "metadata": {},
   "outputs": [],
   "source": [
    "#now we get the worldbank data form 2018 and 217 in the forms we want. This is done in two seperate pipes to keeps things more readable and easy to understand\n",
    "\n",
    "#fix names first\n",
    "Worldbank_vars.columns = Worldbank_vars.columns.str.replace(' ', '_')\n",
    "\n",
    "Wanted_2018_columns = [\"EG.ELC.ACCS.ZS\", \"IS.AIR.GOOD.MT.K1\", \"IS.AIR.PSGR\", \"FB.ATM.TOTL.P5\", \"IC.IMP.CSBC.CD\", \"SP.DYN.LE00.IN\", \"SH.MED.NUMW.P3\", \"SP.POP.GROW\", \"SH.ALC.PCAP.LI\",\"SH.STA.ODFC.ZS\"]\n",
    "\n",
    "Worlbank_2018_vars = (Worldbank_vars\n",
    ">> filter_by(X.Series_Code.str.contains('|'.join(Wanted_2018_columns)) == True)\n",
    ">> mutate(Year_2018 = X[\"2018_[YR2018]\"].replace(\"..\", np.NaN))\n",
    ">> select(X[\"Country_Name\"], X[\"Series_Name\"], X[\"Year_2018\"])\n",
    ">> spread(X[\"Series_Name\"], X[\"Year_2018\"])\n",
    ">> drop(X[\"People practicing open defecation (% of population)\"])\n",
    ") \n",
    "\n",
    "\n",
    "Worlbank_2017_vars = (Worldbank_vars\n",
    ">> filter_by(X.Series_Code.str.contains(\"SH.STA.ODFC.ZS\") == True)\n",
    ">> mutate(Year_2017 = X[\"2017_[YR2017]\"].replace(\"..\", np.NaN))\n",
    ">> select(X[\"Country_Name\"], X[\"Series_Name\"], X[\"Year_2017\"])\n",
    ">> spread(X[\"Series_Name\"], X[\"Year_2017\"])\n",
    ">> select(X[\"Country_Name\"], X[\"People practicing open defecation (% of population)\"])\n",
    ">> rename(People_practicing_open_defecation_percent_of_population_2017 = X[\"People practicing open defecation (% of population)\"])\n",
    ")"
   ]
  },
  {
   "cell_type": "code",
   "execution_count": 37,
   "metadata": {},
   "outputs": [
    {
     "output_type": "execute_result",
     "data": {
      "text/plain": [
       "           Country_Name Access to electricity (% of population)  \\\n",
       "0           Afghanistan                             98.71320343   \n",
       "1               Albania                                     100   \n",
       "2               Algeria                                     100   \n",
       "3               Andorra                                     100   \n",
       "4                Angola                             43.25925827   \n",
       "..                  ...                                     ...   \n",
       "194             Vietnam                                     100   \n",
       "195  West Bank and Gaza                                     100   \n",
       "196         Yemen, Rep.                                      62   \n",
       "197              Zambia                             39.81262207   \n",
       "198            Zimbabwe                             41.04158401   \n",
       "\n",
       "    Air transport, freight (million ton-km) Air transport, passengers carried  \\\n",
       "0                                29.5593488                           1125367   \n",
       "1                                         0                            303137   \n",
       "2                                  28.28048                           6442442   \n",
       "3                                       NaN                               NaN   \n",
       "4                                  78.15964                           1516628   \n",
       "..                                      ...                               ...   \n",
       "194                               762.66195                          47049671   \n",
       "195                                     NaN                               NaN   \n",
       "196                                    3.27                            336310   \n",
       "197                             75.07739773                       16633.13894   \n",
       "198                             0.665035317                            282539   \n",
       "\n",
       "    Automated teller machines (ATMs) (per 100,000 adults)  \\\n",
       "0                                                 1.61      \n",
       "1                                                30.64      \n",
       "2                                                 9.54      \n",
       "3                                                  NaN      \n",
       "4                                                18.92      \n",
       "..                                                 ...      \n",
       "194                                              25.32      \n",
       "195                                              24.74      \n",
       "196                                                NaN      \n",
       "197                                              11.55      \n",
       "198                                               6.63      \n",
       "\n",
       "    Cost to import, border compliance (US$)  \\\n",
       "0                                       750   \n",
       "1                                      77.3   \n",
       "2                                     408.8   \n",
       "3                                       NaN   \n",
       "4                                      1030   \n",
       "..                                      ...   \n",
       "194                                     373   \n",
       "195                                      50   \n",
       "196                                     NaN   \n",
       "197                                     380   \n",
       "198                                   561.7   \n",
       "\n",
       "    Life expectancy at birth, total (years)  \\\n",
       "0                                    64.486   \n",
       "1                                    78.458   \n",
       "2                                    76.693   \n",
       "3                                       NaN   \n",
       "4                                    60.782   \n",
       "..                                      ...   \n",
       "194                                  75.317   \n",
       "195                                  73.895   \n",
       "196                                  66.096   \n",
       "197                                   63.51   \n",
       "198                                  61.195   \n",
       "\n",
       "    Nurses and midwives (per 1,000 people) Population growth (annual %)  \\\n",
       "0                                      NaN                    2.3847611   \n",
       "1                                      NaN                 -0.246732042   \n",
       "2                                   1.5477                   2.00737383   \n",
       "3                                      NaN                  0.006493211   \n",
       "4                                   0.4075                  3.276133875   \n",
       "..                                     ...                          ...   \n",
       "194                                    NaN                  0.992716375   \n",
       "195                                    NaN                  2.533011484   \n",
       "196                                 0.7852                  2.357022518   \n",
       "197                                 1.3376                  2.912801004   \n",
       "198                                 1.9346                  1.410782722   \n",
       "\n",
       "    Total alcohol consumption per capita (liters of pure alcohol, projected estimates, 15+ years of age)  \\\n",
       "0                                                 0.21                                                     \n",
       "1                                                 7.17                                                     \n",
       "2                                                 0.95                                                     \n",
       "3                                                11.02                                                     \n",
       "4                                                 6.94                                                     \n",
       "..                                                 ...                                                     \n",
       "194                                               8.66                                                     \n",
       "195                                                NaN                                                     \n",
       "196                                              0.051                                                     \n",
       "197                                               6.54                                                     \n",
       "198                                               4.67                                                     \n",
       "\n",
       "    People_practicing_open_defecation_percent_of_population_2017  \\\n",
       "0                                          12.74018624             \n",
       "1                                                    0             \n",
       "2                                          0.772990468             \n",
       "3                                                    0             \n",
       "4                                           19.9207369             \n",
       "..                                                 ...             \n",
       "194                                        2.989243724             \n",
       "195                                        0.163597726             \n",
       "196                                        19.57347909             \n",
       "197                                          19.302868             \n",
       "198                                        24.93072333             \n",
       "\n",
       "     Covid_Deaths_as_of_2_16_2021  Covid_Cases_as_of_2_16_2021  \\\n",
       "0                            2428                        55518   \n",
       "1                            1582                        94651   \n",
       "2                            2945                       111069   \n",
       "3                             107                        10555   \n",
       "4                             494                        20389   \n",
       "..                            ...                          ...   \n",
       "194                            35                         2311   \n",
       "195                          1942                       169512   \n",
       "196                           618                         2148   \n",
       "197                           974                        70823   \n",
       "198                          1414                        35315   \n",
       "\n",
       "     Covid_Recoviers_as_of_2_16_2021  \n",
       "0                              48514  \n",
       "1                              58794  \n",
       "2                              76330  \n",
       "3                              10022  \n",
       "4                              18929  \n",
       "..                               ...  \n",
       "194                             1573  \n",
       "195                           157982  \n",
       "196                             1431  \n",
       "197                            63609  \n",
       "198                            30979  \n",
       "\n",
       "[199 rows x 14 columns]"
      ],
      "text/html": "<div>\n<style scoped>\n    .dataframe tbody tr th:only-of-type {\n        vertical-align: middle;\n    }\n\n    .dataframe tbody tr th {\n        vertical-align: top;\n    }\n\n    .dataframe thead th {\n        text-align: right;\n    }\n</style>\n<table border=\"1\" class=\"dataframe\">\n  <thead>\n    <tr style=\"text-align: right;\">\n      <th></th>\n      <th>Country_Name</th>\n      <th>Access to electricity (% of population)</th>\n      <th>Air transport, freight (million ton-km)</th>\n      <th>Air transport, passengers carried</th>\n      <th>Automated teller machines (ATMs) (per 100,000 adults)</th>\n      <th>Cost to import, border compliance (US$)</th>\n      <th>Life expectancy at birth, total (years)</th>\n      <th>Nurses and midwives (per 1,000 people)</th>\n      <th>Population growth (annual %)</th>\n      <th>Total alcohol consumption per capita (liters of pure alcohol, projected estimates, 15+ years of age)</th>\n      <th>People_practicing_open_defecation_percent_of_population_2017</th>\n      <th>Covid_Deaths_as_of_2_16_2021</th>\n      <th>Covid_Cases_as_of_2_16_2021</th>\n      <th>Covid_Recoviers_as_of_2_16_2021</th>\n    </tr>\n  </thead>\n  <tbody>\n    <tr>\n      <th>0</th>\n      <td>Afghanistan</td>\n      <td>98.71320343</td>\n      <td>29.5593488</td>\n      <td>1125367</td>\n      <td>1.61</td>\n      <td>750</td>\n      <td>64.486</td>\n      <td>NaN</td>\n      <td>2.3847611</td>\n      <td>0.21</td>\n      <td>12.74018624</td>\n      <td>2428</td>\n      <td>55518</td>\n      <td>48514</td>\n    </tr>\n    <tr>\n      <th>1</th>\n      <td>Albania</td>\n      <td>100</td>\n      <td>0</td>\n      <td>303137</td>\n      <td>30.64</td>\n      <td>77.3</td>\n      <td>78.458</td>\n      <td>NaN</td>\n      <td>-0.246732042</td>\n      <td>7.17</td>\n      <td>0</td>\n      <td>1582</td>\n      <td>94651</td>\n      <td>58794</td>\n    </tr>\n    <tr>\n      <th>2</th>\n      <td>Algeria</td>\n      <td>100</td>\n      <td>28.28048</td>\n      <td>6442442</td>\n      <td>9.54</td>\n      <td>408.8</td>\n      <td>76.693</td>\n      <td>1.5477</td>\n      <td>2.00737383</td>\n      <td>0.95</td>\n      <td>0.772990468</td>\n      <td>2945</td>\n      <td>111069</td>\n      <td>76330</td>\n    </tr>\n    <tr>\n      <th>3</th>\n      <td>Andorra</td>\n      <td>100</td>\n      <td>NaN</td>\n      <td>NaN</td>\n      <td>NaN</td>\n      <td>NaN</td>\n      <td>NaN</td>\n      <td>NaN</td>\n      <td>0.006493211</td>\n      <td>11.02</td>\n      <td>0</td>\n      <td>107</td>\n      <td>10555</td>\n      <td>10022</td>\n    </tr>\n    <tr>\n      <th>4</th>\n      <td>Angola</td>\n      <td>43.25925827</td>\n      <td>78.15964</td>\n      <td>1516628</td>\n      <td>18.92</td>\n      <td>1030</td>\n      <td>60.782</td>\n      <td>0.4075</td>\n      <td>3.276133875</td>\n      <td>6.94</td>\n      <td>19.9207369</td>\n      <td>494</td>\n      <td>20389</td>\n      <td>18929</td>\n    </tr>\n    <tr>\n      <th>...</th>\n      <td>...</td>\n      <td>...</td>\n      <td>...</td>\n      <td>...</td>\n      <td>...</td>\n      <td>...</td>\n      <td>...</td>\n      <td>...</td>\n      <td>...</td>\n      <td>...</td>\n      <td>...</td>\n      <td>...</td>\n      <td>...</td>\n      <td>...</td>\n    </tr>\n    <tr>\n      <th>194</th>\n      <td>Vietnam</td>\n      <td>100</td>\n      <td>762.66195</td>\n      <td>47049671</td>\n      <td>25.32</td>\n      <td>373</td>\n      <td>75.317</td>\n      <td>NaN</td>\n      <td>0.992716375</td>\n      <td>8.66</td>\n      <td>2.989243724</td>\n      <td>35</td>\n      <td>2311</td>\n      <td>1573</td>\n    </tr>\n    <tr>\n      <th>195</th>\n      <td>West Bank and Gaza</td>\n      <td>100</td>\n      <td>NaN</td>\n      <td>NaN</td>\n      <td>24.74</td>\n      <td>50</td>\n      <td>73.895</td>\n      <td>NaN</td>\n      <td>2.533011484</td>\n      <td>NaN</td>\n      <td>0.163597726</td>\n      <td>1942</td>\n      <td>169512</td>\n      <td>157982</td>\n    </tr>\n    <tr>\n      <th>196</th>\n      <td>Yemen, Rep.</td>\n      <td>62</td>\n      <td>3.27</td>\n      <td>336310</td>\n      <td>NaN</td>\n      <td>NaN</td>\n      <td>66.096</td>\n      <td>0.7852</td>\n      <td>2.357022518</td>\n      <td>0.051</td>\n      <td>19.57347909</td>\n      <td>618</td>\n      <td>2148</td>\n      <td>1431</td>\n    </tr>\n    <tr>\n      <th>197</th>\n      <td>Zambia</td>\n      <td>39.81262207</td>\n      <td>75.07739773</td>\n      <td>16633.13894</td>\n      <td>11.55</td>\n      <td>380</td>\n      <td>63.51</td>\n      <td>1.3376</td>\n      <td>2.912801004</td>\n      <td>6.54</td>\n      <td>19.302868</td>\n      <td>974</td>\n      <td>70823</td>\n      <td>63609</td>\n    </tr>\n    <tr>\n      <th>198</th>\n      <td>Zimbabwe</td>\n      <td>41.04158401</td>\n      <td>0.665035317</td>\n      <td>282539</td>\n      <td>6.63</td>\n      <td>561.7</td>\n      <td>61.195</td>\n      <td>1.9346</td>\n      <td>1.410782722</td>\n      <td>4.67</td>\n      <td>24.93072333</td>\n      <td>1414</td>\n      <td>35315</td>\n      <td>30979</td>\n    </tr>\n  </tbody>\n</table>\n<p>199 rows × 14 columns</p>\n</div>"
     },
     "metadata": {},
     "execution_count": 37
    }
   ],
   "source": [
    "\n",
    "\n",
    "World_Bank_Covid_Data_Combined = (Worlbank_2018_vars \n",
    ">> inner_join(Worlbank_2017_vars, by=\"Country_Name\") \n",
    ">> inner_join(Covid_Data_Cleaned, by=\"Country_Name\")\n",
    ")\n",
    "\n",
    "World_Bank_Covid_Data_Combined\n"
   ]
  },
  {
   "cell_type": "code",
   "execution_count": 38,
   "metadata": {},
   "outputs": [
    {
     "output_type": "stream",
     "name": "stdout",
     "text": [
      "<class 'pandas.core.frame.DataFrame'>\nInt64Index: 199 entries, 0 to 198\nData columns (total 14 columns):\n #   Column                                                                                                Non-Null Count  Dtype   \n---  ------                                                                                                --------------  -----   \n 0   Country_Name                                                                                          199 non-null    category\n 1   Access to electricity (% of population)                                                               198 non-null    float64 \n 2   Air transport, freight (million ton-km)                                                               154 non-null    float64 \n 3   Air transport, passengers carried                                                                     153 non-null    float64 \n 4   Automated teller machines (ATMs) (per 100,000 adults)                                                 168 non-null    float64 \n 5   Cost to import, border compliance (US$)                                                               185 non-null    float64 \n 6   Life expectancy at birth, total (years)                                                               189 non-null    float64 \n 7   Nurses and midwives (per 1,000 people)                                                                108 non-null    float64 \n 8   Population growth (annual %)                                                                          198 non-null    float64 \n 9   Total alcohol consumption per capita (liters of pure alcohol, projected estimates, 15+ years of age)  181 non-null    float64 \n 10  People_practicing_open_defecation_percent_of_population_2017                                          182 non-null    float64 \n 11  Covid_Deaths_as_of_2_16_2021                                                                          199 non-null    int64   \n 12  Covid_Cases_as_of_2_16_2021                                                                           199 non-null    int64   \n 13  Covid_Recoviers_as_of_2_16_2021                                                                       199 non-null    int64   \ndtypes: category(1), float64(10), int64(3)\nmemory usage: 31.8 KB\n"
     ]
    }
   ],
   "source": [
    "World_Bank_Covid_Data_Cleaned = World_Bank_Covid_Data_Combined.astype({\n",
    "    'Country_Name': 'category', \n",
    "    'Covid_Deaths_as_of_2_16_2021': 'int64',\n",
    "    'Covid_Cases_as_of_2_16_2021': 'int64',\n",
    "    'Covid_Recoviers_as_of_2_16_2021': 'int64',\n",
    "    'Access to electricity (% of population)': 'float64',\n",
    "    'Air transport, freight (million ton-km)': 'float64',\n",
    "    'Air transport, passengers carried': 'float64',\n",
    "    'Automated teller machines (ATMs) (per 100,000 adults)' : 'float64',\n",
    "    'Cost to import, border compliance (US$)' : 'float64',\n",
    "    'Life expectancy at birth, total (years)' : 'float64',\n",
    "    'Nurses and midwives (per 1,000 people)' : 'float64',\n",
    "    'Population growth (annual %)' : 'float64',\n",
    "    'People_practicing_open_defecation_percent_of_population_2017' : 'float64',\n",
    "    'Total alcohol consumption per capita (liters of pure alcohol, projected estimates, 15+ years of age)' : 'float64'\n",
    "        })\n",
    "\n",
    "World_Bank_Covid_Data_Cleaned.info()"
   ]
  },
  {
   "cell_type": "code",
   "execution_count": 39,
   "metadata": {},
   "outputs": [],
   "source": [
    "World_Bank_Covid_Data_Cleaned.to_csv(\"./World_Bank_Covid_Data_Cleaned.csv\")\n",
    "\n"
   ]
  },
  {
   "source": [
    "In our final .csv output, Null will be viewed as blank, whereas zeros will be left as zero. This would allow it to easily be imported into any future frameworks easily enough. Keep in mind that some countries really do have zero for categories that may otherwise seem like they should have data, such as air freight for example. Furthermore, some countires claim percentages at zero that may in reality be simply very close to zero. Many of these variables are only estimations."
   ],
   "cell_type": "markdown",
   "metadata": {}
  }
 ]
}